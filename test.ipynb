{
 "cells": [
  {
   "cell_type": "code",
   "execution_count": 2,
   "metadata": {},
   "outputs": [],
   "source": [
    "from missmecha.mechanism.generate import generate_missing\n",
    "import pandas as pd\n",
    "# Simulate a sample DataFrame\n",
    "df = pd.DataFrame({\n",
    "    \"age\": [25, 30, 22, 40, 35, 50, 28, 33, 27, 45],\n",
    "    \"income\": [3000, 4500, 2800, 5200, 4100, 6000, 3900, 4800, 3100, 5500],\n",
    "    \"score\": [0.8, 0.6, 0.75, 0.9, 0.65, 0.92, 0.7, 0.85, 0.77, 0.88]\n",
    "})\n",
    "\n",
    "# Define info dictionary for generate()\n",
    "info = {\n",
    "    \"rate\": 0.2,  # 20% missingness\n",
    "    \"type\": 1     # Use type_two generator\n",
    "}\n",
    "\n",
    "\n",
    "\n",
    "# Run the test using generate\n",
    "df_nan, mask_int, mask_bool = generate_missing(df, missing_type=\"mcar\", info=info)\n",
    "\n"
   ]
  },
  {
   "cell_type": "code",
   "execution_count": 1,
   "metadata": {},
   "outputs": [
    {
     "name": "stdout",
     "output_type": "stream",
     "text": [
      "Overall missing rate: 25.00% (3 / 12 values are missed)\n"
     ]
    }
   ],
   "source": [
    "import pandas as pd\n",
    "import numpy as np\n",
    "from missmecha.analysis import report\n",
    "df = pd.DataFrame({\n",
    "    \"age\": [25, 30, np.nan, 40],\n",
    "    \"income\": [3000, np.nan, 2800, 5200],\n",
    "    \"gender\": [\"M\", \"F\", np.nan, \"F\"]\n",
    "})\n",
    "\n",
    "result = report.missing_rate(df)\n",
    "\n",
    "\n"
   ]
  },
  {
   "cell_type": "code",
   "execution_count": 2,
   "metadata": {},
   "outputs": [
    {
     "data": {
      "text/html": [
       "<div>\n",
       "<style scoped>\n",
       "    .dataframe tbody tr th:only-of-type {\n",
       "        vertical-align: middle;\n",
       "    }\n",
       "\n",
       "    .dataframe tbody tr th {\n",
       "        vertical-align: top;\n",
       "    }\n",
       "\n",
       "    .dataframe thead th {\n",
       "        text-align: right;\n",
       "    }\n",
       "</style>\n",
       "<table border=\"1\" class=\"dataframe\">\n",
       "  <thead>\n",
       "    <tr style=\"text-align: right;\">\n",
       "      <th></th>\n",
       "      <th>n_missing</th>\n",
       "      <th>missing_rate (%)</th>\n",
       "      <th>n_unique</th>\n",
       "      <th>dtype</th>\n",
       "      <th>n_total</th>\n",
       "    </tr>\n",
       "    <tr>\n",
       "      <th>column</th>\n",
       "      <th></th>\n",
       "      <th></th>\n",
       "      <th></th>\n",
       "      <th></th>\n",
       "      <th></th>\n",
       "    </tr>\n",
       "  </thead>\n",
       "  <tbody>\n",
       "    <tr>\n",
       "      <th>age</th>\n",
       "      <td>1</td>\n",
       "      <td>25.0</td>\n",
       "      <td>3</td>\n",
       "      <td>float64</td>\n",
       "      <td>4</td>\n",
       "    </tr>\n",
       "    <tr>\n",
       "      <th>income</th>\n",
       "      <td>1</td>\n",
       "      <td>25.0</td>\n",
       "      <td>3</td>\n",
       "      <td>float64</td>\n",
       "      <td>4</td>\n",
       "    </tr>\n",
       "    <tr>\n",
       "      <th>gender</th>\n",
       "      <td>1</td>\n",
       "      <td>25.0</td>\n",
       "      <td>2</td>\n",
       "      <td>object</td>\n",
       "      <td>4</td>\n",
       "    </tr>\n",
       "  </tbody>\n",
       "</table>\n",
       "</div>"
      ],
      "text/plain": [
       "        n_missing  missing_rate (%)  n_unique    dtype  n_total\n",
       "column                                                         \n",
       "age             1              25.0         3  float64        4\n",
       "income          1              25.0         3  float64        4\n",
       "gender          1              25.0         2   object        4"
      ]
     },
     "execution_count": 2,
     "metadata": {},
     "output_type": "execute_result"
    }
   ],
   "source": [
    "result['report']  # per-column summary\n"
   ]
  },
  {
   "cell_type": "code",
   "execution_count": 3,
   "metadata": {},
   "outputs": [
    {
     "data": {
      "text/plain": [
       "25.0"
      ]
     },
     "execution_count": 3,
     "metadata": {},
     "output_type": "execute_result"
    }
   ],
   "source": [
    "result['overall_missing_rate']  # overall %"
   ]
  },
  {
   "cell_type": "code",
   "execution_count": null,
   "metadata": {},
   "outputs": [],
   "source": [
    "from missmecha.analysis import visual\n",
    "import numpy as np\n",
    "import pandas as pd\n",
    "\n",
    "collisions = pd.read_csv(\"https://raw.githubusercontent.com/ResidentMario/missingno-data/master/nyc_collision_factors.csv\")\n",
    "data = collisions.sample(250)\n",
    "df = pd.read_csv(\"_data.txt\", delimiter=\",\", header=None)\n",
    "\n",
    "# Simulated larger dataset with some missing values\n",
    "df = pd.DataFrame({\n",
    "    \"DATE\": [\"09/10/2016\", \"03/31/2016\", \"03/16/2016\", \"04/01/2016\", np.nan, \"04/03/2016\"],\n",
    "    \"TIME\": [\"12:09:00\", \"22:10:00\", \"14:58:00\", np.nan, \"08:30:00\", \"19:00:00\"],\n",
    "    \"BOROUGH\": [\"QUEENS\", \"BROOKLYN\", \"MANHATTAN\", \"QUEENS\", \"BRONX\", np.nan],\n",
    "    \"ZIP CODE\": [\"11427\", \"11223\", \"10001\", \"11434\", np.nan, \"10010\"],\n",
    "    \"LATITUDE\": [40.724692, 40.598761, 40.712776, np.nan, 40.850000, 40.755000],\n",
    "    \"LONGITUDE\": [-73.874245, -73.987843, -74.006058, -73.900000, -73.880000, np.nan],\n",
    "    \"VEHICLE TYPE\": [\"BICYCLE\", \"PASSENGER VEHICLE\", \"TAXI\", \"SUV\", np.nan, \"BICYCLE\"]\n",
    "})\n",
    "\n",
    "def type_convert(df):\n",
    "    for col in df.columns:\n",
    "        if df[col].dtype == 'object':\n",
    "            try:\n",
    "                df[col] = pd.to_datetime(df[col])\n",
    "            except ValueError:\n",
    "                 df[col] = df[col].astype('category').cat.codes\n",
    "\n",
    "        else:\n",
    "            df[col].to_numpy(dtype=float) \n",
    "\n",
    "    return df\n",
    "# Convert using your helper\n",
    "converted_array = type_convert(df)\n",
    "\n",
    "null_pattern =(np.random.random(10000).reshape((500, 20))> 0.5).astype(bool)\n",
    "null_pattern = pd.DataFrame(null_pattern).replace({False: None})\n",
    "ts = null_pattern.set_index(pd.period_range('1/1/2011', '5/14/2012', freq='D'))\n",
    "# visual.matrix(ts,cmap=\"GnBu\",ts=True)\n",
    "# visual.matrix(df,cmap=\"GnBu\")\n",
    "# visual.matrix(data,cmap=\"GnBu\",color=False)\n",
    "# visual.heatmap(ts)\n",
    "# visual.heatmap(df)\n",
    "# visual.heatmap(data)"
   ]
  },
  {
   "cell_type": "code",
   "execution_count": null,
   "metadata": {},
   "outputs": [
    {
     "name": "stdout",
     "output_type": "stream",
     "text": [
      "Per-column RMSE: {'A': 1.4817116029992137, 'B': 0.9307352818998821, 'C': 8.79733248775861}\n",
      "Overall RMSE: 3.736593124219235\n"
     ]
    }
   ],
   "source": [
    "import pandas as pd\n",
    "import numpy as np\n",
    "from missmecha.evaluation import imp_eval\n",
    "\n",
    "# Step 1: Create complete test data\n",
    "np.random.seed(0)\n",
    "df_true = pd.DataFrame({\n",
    "    \"A\": np.random.normal(loc=10, scale=2, size=100),\n",
    "    \"B\": np.random.normal(loc=0, scale=1, size=100),\n",
    "    \"C\": np.random.normal(loc=50, scale=10, size=100)\n",
    "})\n",
    "\n",
    "# Step 2: Inject missing values (20%)\n",
    "mask = np.random.rand(*df_true.shape) < 0.2\n",
    "df_incomplete = df_true.mask(mask)\n",
    "\n",
    "# Step 3: Simple imputation with column means\n",
    "df_filled = df_incomplete.fillna(df_incomplete.mean().round())\n",
    "\n",
    "results = imp_eval(df_true, df_filled, df_incomplete, method=\"rmse\")\n",
    "print(\"Per-column RMSE:\", results[\"column_scores\"])\n",
    "print(\"Overall RMSE:\", results[\"overall_score\"])\n",
    "\n",
    "status = {\n",
    "    \"A\": \"num\",\n",
    "    \"B\": \"cat\",\n",
    "    \"C\": \"disc\"\n",
    "}\n",
    "\n",
    "# Even though method=\"mae\", it's only used for numeric columns\n",
    "# categorical columns will be evaluated by accuracy\n",
    "scores = imp_eval(df_true, df_filled, df_incomplete, method=\"mae\", status=status)\n",
    "print(\"Per-column RMSE:\", scores[\"column_scores\"])\n",
    "print(\"Overall RMSE:\", scores[\"overall_score\"])\n"
   ]
  },
  {
   "cell_type": "code",
   "execution_count": null,
   "metadata": {},
   "outputs": [
    {
     "name": "stdout",
     "output_type": "stream",
     "text": [
      "{'A': 1.133288651991824}\n",
      "0.0\n",
      "{'A': 1.133288651991824, 'B': 0.0}\n",
      "0.0\n",
      "{'A': 1.133288651991824, 'B': 0.0, 'C': 0.0}\n",
      "{'A': 1.133288651991824, 'B': 0.0, 'C': 0.0}\n",
      "Per-column RMSE: {'A': 1.133288651991824, 'B': 0.0, 'C': 0.0}\n",
      "Overall RMSE: 0.37776288399727465\n"
     ]
    }
   ],
   "source": [
    "\n"
   ]
  },
  {
   "cell_type": "code",
   "execution_count": null,
   "metadata": {},
   "outputs": [],
   "source": [
    "\n"
   ]
  }
 ],
 "metadata": {
  "kernelspec": {
   "display_name": "missmecha",
   "language": "python",
   "name": "python3"
  },
  "language_info": {
   "codemirror_mode": {
    "name": "ipython",
    "version": 3
   },
   "file_extension": ".py",
   "mimetype": "text/x-python",
   "name": "python",
   "nbconvert_exporter": "python",
   "pygments_lexer": "ipython3",
   "version": "3.9.21"
  }
 },
 "nbformat": 4,
 "nbformat_minor": 2
}

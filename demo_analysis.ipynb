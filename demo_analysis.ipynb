{
 "cells": [
  {
   "cell_type": "markdown",
   "metadata": {},
   "source": [
    "## Missingness Analysis & Imputation Evaluation Demo\n",
    "\n",
    "This notebook demonstrates how to analyze missingness in a dataset and evaluate imputation quality using the `missmecha.analysis` modules.\n",
    "\n",
    "We show:\n",
    "- Column-wise and overall missing rate analysis\n",
    "- Visual inspection of missing patterns\n",
    "- Evaluation of imputation quality using RMSE / Accuracy, depending on variable type\n"
   ]
  },
  {
   "cell_type": "markdown",
   "metadata": {},
   "source": [
    "### A Note on AvgERR\n",
    "\n",
    "The idea behind `AvgERR` is to evaluate imputation performance based on variable types:\n",
    "\n",
    "$\n",
    "\\text{AvgErr}(v_j) =\n",
    "\\begin{cases}\n",
    "\\frac{1}{n} \\sum\\limits_{i=1}^{n} |X_{ij} - \\hat{X}_{ij}|, & \\text{if } v_j \\text{ is continuous (MAE)} \\\\\\\\\n",
    "\\sqrt{\\frac{1}{n} \\sum\\limits_{i=1}^{n} (X_{ij} - \\hat{X}_{ij})^2}, & \\text{if } v_j \\text{ is continuous (RMSE)} \\\\\\\\\n",
    "\\frac{1}{n} \\sum\\limits_{i=1}^{n} (X_{ij} - \\hat{X}_{ij})^2, & \\text{if } v_j \\text{ is continuous (MSE)} \\\\\\\\\n",
    "\\frac{1}{n} \\sum\\limits_{i=1}^{n} \\text{Acc}(X_{ij}, \\hat{X}_{ij}), & \\text{if } v_j \\text{ is categorical}\n",
    "\\end{cases}\n",
    "$\n",
    "\n",
    "\n",
    "In this implementation, if a `status` dictionary is provided, the function automatically applies the appropriate metric:\n",
    "- **Numerical columns** use the selected method (RMSE or MAE)\n",
    "- **Categorical/discrete columns** use classification accuracy"
   ]
  },
  {
   "cell_type": "markdown",
   "metadata": {},
   "source": [
    "## Setup\n",
    "Import required packages and the evaluation function. We'll start by importing necessary packages and simulating a dataset with mixed-type variables and missing values.\n"
   ]
  },
  {
   "cell_type": "code",
   "execution_count": 1,
   "metadata": {},
   "outputs": [],
   "source": [
    "import pandas as pd\n",
    "import numpy as np\n",
    "from missmecha.analysis import evaluate_imputation,compute_missing_rate"
   ]
  },
  {
   "cell_type": "markdown",
   "metadata": {},
   "source": [
    "### Create fully observed mixed-type dataset\n"
   ]
  },
  {
   "cell_type": "code",
   "execution_count": 2,
   "metadata": {},
   "outputs": [
    {
     "data": {
      "text/html": [
       "<div>\n",
       "<style scoped>\n",
       "    .dataframe tbody tr th:only-of-type {\n",
       "        vertical-align: middle;\n",
       "    }\n",
       "\n",
       "    .dataframe tbody tr th {\n",
       "        vertical-align: top;\n",
       "    }\n",
       "\n",
       "    .dataframe thead th {\n",
       "        text-align: right;\n",
       "    }\n",
       "</style>\n",
       "<table border=\"1\" class=\"dataframe\">\n",
       "  <thead>\n",
       "    <tr style=\"text-align: right;\">\n",
       "      <th></th>\n",
       "      <th>age</th>\n",
       "      <th>income</th>\n",
       "      <th>gender</th>\n",
       "      <th>job_level</th>\n",
       "    </tr>\n",
       "  </thead>\n",
       "  <tbody>\n",
       "    <tr>\n",
       "      <th>0</th>\n",
       "      <td>25</td>\n",
       "      <td>3000</td>\n",
       "      <td>M</td>\n",
       "      <td>junior</td>\n",
       "    </tr>\n",
       "    <tr>\n",
       "      <th>1</th>\n",
       "      <td>30</td>\n",
       "      <td>4500</td>\n",
       "      <td>F</td>\n",
       "      <td>mid</td>\n",
       "    </tr>\n",
       "    <tr>\n",
       "      <th>2</th>\n",
       "      <td>22</td>\n",
       "      <td>2800</td>\n",
       "      <td>M</td>\n",
       "      <td>junior</td>\n",
       "    </tr>\n",
       "    <tr>\n",
       "      <th>3</th>\n",
       "      <td>40</td>\n",
       "      <td>5200</td>\n",
       "      <td>F</td>\n",
       "      <td>senior</td>\n",
       "    </tr>\n",
       "    <tr>\n",
       "      <th>4</th>\n",
       "      <td>35</td>\n",
       "      <td>4100</td>\n",
       "      <td>F</td>\n",
       "      <td>mid</td>\n",
       "    </tr>\n",
       "    <tr>\n",
       "      <th>5</th>\n",
       "      <td>50</td>\n",
       "      <td>6000</td>\n",
       "      <td>M</td>\n",
       "      <td>senior</td>\n",
       "    </tr>\n",
       "  </tbody>\n",
       "</table>\n",
       "</div>"
      ],
      "text/plain": [
       "   age  income gender job_level\n",
       "0   25    3000      M    junior\n",
       "1   30    4500      F       mid\n",
       "2   22    2800      M    junior\n",
       "3   40    5200      F    senior\n",
       "4   35    4100      F       mid\n",
       "5   50    6000      M    senior"
      ]
     },
     "execution_count": 2,
     "metadata": {},
     "output_type": "execute_result"
    }
   ],
   "source": [
    "df_true = pd.DataFrame({\n",
    "    \"age\": [25, 30, 22, 40, 35, 50],\n",
    "    \"income\": [3000, 4500, 2800, 5200, 4100, 6000],\n",
    "    \"gender\": [\"M\", \"F\", \"M\", \"F\", \"F\", \"M\"],\n",
    "    \"job_level\": [\"junior\", \"mid\", \"junior\", \"senior\", \"mid\", \"senior\"]\n",
    "})\n",
    "df_true"
   ]
  },
  {
   "cell_type": "markdown",
   "metadata": {},
   "source": [
    "### Inject missing values"
   ]
  },
  {
   "cell_type": "code",
   "execution_count": 3,
   "metadata": {},
   "outputs": [
    {
     "data": {
      "text/html": [
       "<div>\n",
       "<style scoped>\n",
       "    .dataframe tbody tr th:only-of-type {\n",
       "        vertical-align: middle;\n",
       "    }\n",
       "\n",
       "    .dataframe tbody tr th {\n",
       "        vertical-align: top;\n",
       "    }\n",
       "\n",
       "    .dataframe thead th {\n",
       "        text-align: right;\n",
       "    }\n",
       "</style>\n",
       "<table border=\"1\" class=\"dataframe\">\n",
       "  <thead>\n",
       "    <tr style=\"text-align: right;\">\n",
       "      <th></th>\n",
       "      <th>age</th>\n",
       "      <th>income</th>\n",
       "      <th>gender</th>\n",
       "      <th>job_level</th>\n",
       "    </tr>\n",
       "  </thead>\n",
       "  <tbody>\n",
       "    <tr>\n",
       "      <th>0</th>\n",
       "      <td>25.0</td>\n",
       "      <td>3000.0</td>\n",
       "      <td>M</td>\n",
       "      <td>junior</td>\n",
       "    </tr>\n",
       "    <tr>\n",
       "      <th>1</th>\n",
       "      <td>NaN</td>\n",
       "      <td>4500.0</td>\n",
       "      <td>F</td>\n",
       "      <td>mid</td>\n",
       "    </tr>\n",
       "    <tr>\n",
       "      <th>2</th>\n",
       "      <td>22.0</td>\n",
       "      <td>NaN</td>\n",
       "      <td>M</td>\n",
       "      <td>junior</td>\n",
       "    </tr>\n",
       "    <tr>\n",
       "      <th>3</th>\n",
       "      <td>40.0</td>\n",
       "      <td>5200.0</td>\n",
       "      <td>NaN</td>\n",
       "      <td>senior</td>\n",
       "    </tr>\n",
       "    <tr>\n",
       "      <th>4</th>\n",
       "      <td>35.0</td>\n",
       "      <td>4100.0</td>\n",
       "      <td>F</td>\n",
       "      <td>NaN</td>\n",
       "    </tr>\n",
       "    <tr>\n",
       "      <th>5</th>\n",
       "      <td>50.0</td>\n",
       "      <td>6000.0</td>\n",
       "      <td>M</td>\n",
       "      <td>senior</td>\n",
       "    </tr>\n",
       "  </tbody>\n",
       "</table>\n",
       "</div>"
      ],
      "text/plain": [
       "    age  income gender job_level\n",
       "0  25.0  3000.0      M    junior\n",
       "1   NaN  4500.0      F       mid\n",
       "2  22.0     NaN      M    junior\n",
       "3  40.0  5200.0    NaN    senior\n",
       "4  35.0  4100.0      F       NaN\n",
       "5  50.0  6000.0      M    senior"
      ]
     },
     "execution_count": 3,
     "metadata": {},
     "output_type": "execute_result"
    }
   ],
   "source": [
    "df_incomplete = df_true.copy()\n",
    "df_incomplete.loc[1, \"age\"] = np.nan\n",
    "df_incomplete.loc[2, \"income\"] = np.nan\n",
    "df_incomplete.loc[3, \"gender\"] = np.nan\n",
    "df_incomplete.loc[4, \"job_level\"] = np.nan\n",
    "df_incomplete"
   ]
  },
  {
   "cell_type": "code",
   "execution_count": 4,
   "metadata": {},
   "outputs": [
    {
     "name": "stdout",
     "output_type": "stream",
     "text": [
      "Overall missing rate: 16.67%\n",
      "4 / 24 total values are missing.\n",
      "\n",
      "Top variables by missing rate:\n"
     ]
    },
    {
     "data": {
      "text/html": [
       "<div>\n",
       "<style scoped>\n",
       "    .dataframe tbody tr th:only-of-type {\n",
       "        vertical-align: middle;\n",
       "    }\n",
       "\n",
       "    .dataframe tbody tr th {\n",
       "        vertical-align: top;\n",
       "    }\n",
       "\n",
       "    .dataframe thead th {\n",
       "        text-align: right;\n",
       "    }\n",
       "</style>\n",
       "<table border=\"1\" class=\"dataframe\">\n",
       "  <thead>\n",
       "    <tr style=\"text-align: right;\">\n",
       "      <th></th>\n",
       "      <th>n_missing</th>\n",
       "      <th>missing_rate (%)</th>\n",
       "      <th>n_unique</th>\n",
       "      <th>dtype</th>\n",
       "      <th>n_total</th>\n",
       "    </tr>\n",
       "    <tr>\n",
       "      <th>column</th>\n",
       "      <th></th>\n",
       "      <th></th>\n",
       "      <th></th>\n",
       "      <th></th>\n",
       "      <th></th>\n",
       "    </tr>\n",
       "  </thead>\n",
       "  <tbody>\n",
       "    <tr>\n",
       "      <th>age</th>\n",
       "      <td>1</td>\n",
       "      <td>16.67</td>\n",
       "      <td>5</td>\n",
       "      <td>float64</td>\n",
       "      <td>6</td>\n",
       "    </tr>\n",
       "    <tr>\n",
       "      <th>income</th>\n",
       "      <td>1</td>\n",
       "      <td>16.67</td>\n",
       "      <td>5</td>\n",
       "      <td>float64</td>\n",
       "      <td>6</td>\n",
       "    </tr>\n",
       "    <tr>\n",
       "      <th>gender</th>\n",
       "      <td>1</td>\n",
       "      <td>16.67</td>\n",
       "      <td>2</td>\n",
       "      <td>object</td>\n",
       "      <td>6</td>\n",
       "    </tr>\n",
       "    <tr>\n",
       "      <th>job_level</th>\n",
       "      <td>1</td>\n",
       "      <td>16.67</td>\n",
       "      <td>3</td>\n",
       "      <td>object</td>\n",
       "      <td>6</td>\n",
       "    </tr>\n",
       "  </tbody>\n",
       "</table>\n",
       "</div>"
      ],
      "text/plain": [
       "           n_missing  missing_rate (%)  n_unique    dtype  n_total\n",
       "column                                                            \n",
       "age                1             16.67         5  float64        6\n",
       "income             1             16.67         5  float64        6\n",
       "gender             1             16.67         2   object        6\n",
       "job_level          1             16.67         3   object        6"
      ]
     },
     "metadata": {},
     "output_type": "display_data"
    },
    {
     "data": {
      "text/plain": [
       "{'report':            n_missing  missing_rate (%)  n_unique    dtype  n_total\n",
       " column                                                            \n",
       " age                1             16.67         5  float64        6\n",
       " income             1             16.67         5  float64        6\n",
       " gender             1             16.67         2   object        6\n",
       " job_level          1             16.67         3   object        6,\n",
       " 'overall_missing_rate': np.float64(16.67)}"
      ]
     },
     "execution_count": 4,
     "metadata": {},
     "output_type": "execute_result"
    }
   ],
   "source": [
    "compute_missing_rate(df_incomplete)"
   ]
  },
  {
   "cell_type": "markdown",
   "metadata": {},
   "source": [
    "### Impute missing values (integer mean for numeric, mode for categorical)"
   ]
  },
  {
   "cell_type": "code",
   "execution_count": 5,
   "metadata": {},
   "outputs": [
    {
     "data": {
      "text/html": [
       "<div>\n",
       "<style scoped>\n",
       "    .dataframe tbody tr th:only-of-type {\n",
       "        vertical-align: middle;\n",
       "    }\n",
       "\n",
       "    .dataframe tbody tr th {\n",
       "        vertical-align: top;\n",
       "    }\n",
       "\n",
       "    .dataframe thead th {\n",
       "        text-align: right;\n",
       "    }\n",
       "</style>\n",
       "<table border=\"1\" class=\"dataframe\">\n",
       "  <thead>\n",
       "    <tr style=\"text-align: right;\">\n",
       "      <th></th>\n",
       "      <th>age</th>\n",
       "      <th>income</th>\n",
       "      <th>gender</th>\n",
       "      <th>job_level</th>\n",
       "    </tr>\n",
       "  </thead>\n",
       "  <tbody>\n",
       "    <tr>\n",
       "      <th>0</th>\n",
       "      <td>25.0</td>\n",
       "      <td>3000.0</td>\n",
       "      <td>M</td>\n",
       "      <td>junior</td>\n",
       "    </tr>\n",
       "    <tr>\n",
       "      <th>1</th>\n",
       "      <td>34.0</td>\n",
       "      <td>4500.0</td>\n",
       "      <td>F</td>\n",
       "      <td>mid</td>\n",
       "    </tr>\n",
       "    <tr>\n",
       "      <th>2</th>\n",
       "      <td>22.0</td>\n",
       "      <td>4560.0</td>\n",
       "      <td>M</td>\n",
       "      <td>junior</td>\n",
       "    </tr>\n",
       "    <tr>\n",
       "      <th>3</th>\n",
       "      <td>40.0</td>\n",
       "      <td>5200.0</td>\n",
       "      <td>M</td>\n",
       "      <td>senior</td>\n",
       "    </tr>\n",
       "    <tr>\n",
       "      <th>4</th>\n",
       "      <td>35.0</td>\n",
       "      <td>4100.0</td>\n",
       "      <td>F</td>\n",
       "      <td>junior</td>\n",
       "    </tr>\n",
       "    <tr>\n",
       "      <th>5</th>\n",
       "      <td>50.0</td>\n",
       "      <td>6000.0</td>\n",
       "      <td>M</td>\n",
       "      <td>senior</td>\n",
       "    </tr>\n",
       "  </tbody>\n",
       "</table>\n",
       "</div>"
      ],
      "text/plain": [
       "    age  income gender job_level\n",
       "0  25.0  3000.0      M    junior\n",
       "1  34.0  4500.0      F       mid\n",
       "2  22.0  4560.0      M    junior\n",
       "3  40.0  5200.0      M    senior\n",
       "4  35.0  4100.0      F    junior\n",
       "5  50.0  6000.0      M    senior"
      ]
     },
     "execution_count": 5,
     "metadata": {},
     "output_type": "execute_result"
    }
   ],
   "source": [
    "df_filled = df_incomplete.copy()\n",
    "\n",
    "for col in df_filled.columns:\n",
    "    if df_filled[col].dtype.kind in \"iufc\":\n",
    "        df_filled[col] = df_filled[col].fillna(round(df_filled[col].mean()))\n",
    "    else:\n",
    "        df_filled[col] = df_filled[col].fillna(df_filled[col].mode()[0])\n",
    "\n",
    "df_filled"
   ]
  },
  {
   "cell_type": "markdown",
   "metadata": {},
   "source": [
    "### Define variable types\n"
   ]
  },
  {
   "cell_type": "code",
   "execution_count": 6,
   "metadata": {},
   "outputs": [],
   "source": [
    "status = {\n",
    "    \"age\": \"num\",\n",
    "    \"income\": \"num\",\n",
    "    \"gender\": \"cat\",\n",
    "    \"job_level\": \"disc\"\n",
    "}\n"
   ]
  },
  {
   "cell_type": "markdown",
   "metadata": {},
   "source": [
    "### Run `evaluate_imputation()` with AvgERR logi\n",
    "\n"
   ]
  },
  {
   "cell_type": "code",
   "execution_count": 7,
   "metadata": {},
   "outputs": [
    {
     "ename": "NameError",
     "evalue": "name 'mean_absolute_error' is not defined",
     "output_type": "error",
     "traceback": [
      "\u001b[31m---------------------------------------------------------------------------\u001b[39m",
      "\u001b[31mNameError\u001b[39m                                 Traceback (most recent call last)",
      "\u001b[36mCell\u001b[39m\u001b[36m \u001b[39m\u001b[32mIn[7]\u001b[39m\u001b[32m, line 1\u001b[39m\n\u001b[32m----> \u001b[39m\u001b[32m1\u001b[39m results = \u001b[43mevaluate_imputation\u001b[49m\u001b[43m(\u001b[49m\n\u001b[32m      2\u001b[39m \u001b[43m    \u001b[49m\u001b[43mground_truth\u001b[49m\u001b[43m=\u001b[49m\u001b[43mdf_true\u001b[49m\u001b[43m,\u001b[49m\n\u001b[32m      3\u001b[39m \u001b[43m    \u001b[49m\u001b[43mfilled_df\u001b[49m\u001b[43m=\u001b[49m\u001b[43mdf_filled\u001b[49m\u001b[43m,\u001b[49m\n\u001b[32m      4\u001b[39m \u001b[43m    \u001b[49m\u001b[43mincomplete_df\u001b[49m\u001b[43m=\u001b[49m\u001b[43mdf_incomplete\u001b[49m\u001b[43m,\u001b[49m\n\u001b[32m      5\u001b[39m \u001b[43m    \u001b[49m\u001b[43mmethod\u001b[49m\u001b[43m=\u001b[49m\u001b[33;43m\"\u001b[39;49m\u001b[33;43mmae\u001b[39;49m\u001b[33;43m\"\u001b[39;49m\u001b[43m,\u001b[49m\u001b[43m  \u001b[49m\u001b[38;5;66;43;03m# used for numerical columns\u001b[39;49;00m\n\u001b[32m      6\u001b[39m \u001b[43m    \u001b[49m\u001b[43mstatus\u001b[49m\u001b[43m=\u001b[49m\u001b[43mstatus\u001b[49m\n\u001b[32m      7\u001b[39m \u001b[43m)\u001b[49m\n",
      "\u001b[36mFile \u001b[39m\u001b[32m~/code/MissMecha/MissMecha/missmecha/analysis.py:143\u001b[39m, in \u001b[36mevaluate_imputation\u001b[39m\u001b[34m(ground_truth, filled_df, incomplete_df, method, status)\u001b[39m\n\u001b[32m    141\u001b[39m     score = mean_squared_error(y_true, y_pred, squared=\u001b[38;5;28;01mFalse\u001b[39;00m)\n\u001b[32m    142\u001b[39m \u001b[38;5;28;01melif\u001b[39;00m method == \u001b[33m\"\u001b[39m\u001b[33mmae\u001b[39m\u001b[33m\"\u001b[39m:\n\u001b[32m--> \u001b[39m\u001b[32m143\u001b[39m     score = \u001b[43mmean_absolute_error\u001b[49m(y_true, y_pred)\n\u001b[32m    144\u001b[39m \u001b[38;5;28;01melse\u001b[39;00m:\n\u001b[32m    145\u001b[39m     \u001b[38;5;28;01mraise\u001b[39;00m \u001b[38;5;167;01mValueError\u001b[39;00m(\u001b[33mf\u001b[39m\u001b[33m\"\u001b[39m\u001b[33mMethod \u001b[39m\u001b[33m'\u001b[39m\u001b[38;5;132;01m{\u001b[39;00mmethod\u001b[38;5;132;01m}\u001b[39;00m\u001b[33m'\u001b[39m\u001b[33m not supported for numeric columns.\u001b[39m\u001b[33m\"\u001b[39m)\n",
      "\u001b[31mNameError\u001b[39m: name 'mean_absolute_error' is not defined"
     ]
    }
   ],
   "source": [
    "results = evaluate_imputation(\n",
    "    ground_truth=df_true,\n",
    "    filled_df=df_filled,\n",
    "    incomplete_df=df_incomplete,\n",
    "    method=\"mae\",  # used for numerical columns\n",
    "    status=status\n",
    ")"
   ]
  },
  {
   "cell_type": "code",
   "execution_count": null,
   "metadata": {},
   "outputs": [
    {
     "name": "stdout",
     "output_type": "stream",
     "text": [
      "Column-wise scores:\n",
      "  age: 4.00\n",
      "  income: 1760.00\n",
      "  gender: 0.00\n",
      "  job_level: 0.00\n",
      "\n",
      " Overall score: 441.00\n"
     ]
    }
   ],
   "source": [
    "print(\"Column-wise scores:\")\n",
    "for k, v in results[\"column_scores\"].items():\n",
    "    print(f\"  {k}: {v:.2f}\")\n",
    "\n",
    "print(f\"\\n Overall score: {results['overall_score']:.2f}\")"
   ]
  }
 ],
 "metadata": {
  "kernelspec": {
   "display_name": ".venv",
   "language": "python",
   "name": "python3"
  },
  "language_info": {
   "codemirror_mode": {
    "name": "ipython",
    "version": 3
   },
   "file_extension": ".py",
   "mimetype": "text/x-python",
   "name": "python",
   "nbconvert_exporter": "python",
   "pygments_lexer": "ipython3",
   "version": "3.13.3"
  }
 },
 "nbformat": 4,
 "nbformat_minor": 2
}
